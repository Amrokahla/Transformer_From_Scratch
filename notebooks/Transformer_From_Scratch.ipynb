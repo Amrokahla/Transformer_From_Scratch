{
 "cells": [
  {
   "cell_type": "code",
   "execution_count": 1,
   "id": "e97cccb1",
   "metadata": {},
   "outputs": [],
   "source": [
    "import math\n",
    "\n",
    "import torch\n",
    "import torch.nn as nn\n",
    "import torch.nn.functional as F"
   ]
  },
  {
   "cell_type": "markdown",
   "id": "e705f3e3",
   "metadata": {},
   "source": [
    "### Embedding layer"
   ]
  },
  {
   "cell_type": "code",
   "execution_count": 2,
   "id": "086f0127",
   "metadata": {},
   "outputs": [],
   "source": [
    "class InputEmbedding(nn.Module):\n",
    "    def __init__(self, vocab_size: int, d_model: int):\n",
    "        super().__init__()\n",
    "        self.d_model = d_model\n",
    "        self.embedding = nn.Embedding(vocab_size, d_model)\n",
    "\n",
    "    def forward(self, x):\n",
    "        return self.embedding(x) * math.sqrt(self.d_model)"
   ]
  },
  {
   "cell_type": "code",
   "execution_count": 3,
   "id": "6db1c8fa",
   "metadata": {},
   "outputs": [
    {
     "name": "stdout",
     "output_type": "stream",
     "text": [
      "InputEmbedding Output: torch.Size([2, 5, 16])\n"
     ]
    }
   ],
   "source": [
    "embed = InputEmbedding(vocab_size=100, d_model=16)\n",
    "dummy_input = torch.randint(0, 100, (2, 5))\n",
    "print(\"InputEmbedding Output:\", embed(dummy_input).shape)"
   ]
  },
  {
   "cell_type": "markdown",
   "id": "ef861eaf",
   "metadata": {},
   "source": [
    "### Positional Encoding"
   ]
  },
  {
   "cell_type": "code",
   "execution_count": 4,
   "id": "e4cca1f4",
   "metadata": {},
   "outputs": [],
   "source": [
    "class PositionalEncoding(nn.Module):\n",
    "    def __init__(self, d_model: int, max_seq_length: int):\n",
    "        super().__init__()\n",
    "        pe = torch.zeros(max_seq_length, d_model)\n",
    "        position = torch.arange(0, max_seq_length, dtype=torch.float).unsqueeze(1)\n",
    "        div_term = torch.exp(torch.arange(0, d_model, 2).float() * -(math.log(10000.0) / d_model))\n",
    "        pe[:, 0::2] = torch.sin(position * div_term)\n",
    "        pe[:, 1::2] = torch.cos(position * div_term)\n",
    "        self.register_buffer('pe', pe.unsqueeze(0))\n",
    "\n",
    "    def forward(self, x):\n",
    "        return x + self.pe[:, :x.size(1)]\n"
   ]
  },
  {
   "cell_type": "code",
   "execution_count": 5,
   "id": "9277091e",
   "metadata": {},
   "outputs": [
    {
     "name": "stdout",
     "output_type": "stream",
     "text": [
      "PositionalEncoding Output: torch.Size([2, 5, 16])\n"
     ]
    }
   ],
   "source": [
    "pos_enc = PositionalEncoding(d_model=16, max_seq_length=10)\n",
    "dummy_embed = torch.rand(2, 5, 16)\n",
    "print(\"PositionalEncoding Output:\", pos_enc(dummy_embed).shape)"
   ]
  },
  {
   "cell_type": "markdown",
   "id": "9d78dae4",
   "metadata": {},
   "source": [
    "### MultiHead Attention"
   ]
  },
  {
   "cell_type": "code",
   "execution_count": 6,
   "id": "06ccd024",
   "metadata": {},
   "outputs": [],
   "source": [
    "class MultiHeadAttention(nn.Module):\n",
    "    def __init__(self, d_model: int, nhead: int):\n",
    "        super().__init__()\n",
    "        self.d_model = d_model\n",
    "        self.nhead = nhead\n",
    "        self.head_dim = d_model // nhead\n",
    "        assert d_model % nhead == 0, \"d_model must be divisible by nhead\"\n",
    "        self.query = nn.Linear(d_model, d_model, bias=False)\n",
    "        self.key = nn.Linear(d_model, d_model, bias=False)\n",
    "        self.value = nn.Linear(d_model, d_model, bias=False)\n",
    "        self.output = nn.Linear(d_model, d_model)\n",
    "\n",
    "    def split_heads(self, x, batch_size):\n",
    "        x = x.reshape(batch_size, -1, self.nhead, self.head_dim)\n",
    "        return x.permute(0, 2, 1, 3)\n",
    "\n",
    "    def compute_attention(self, query, key, value, mask=None):\n",
    "        scores = torch.matmul(query, key.transpose(-2, -1)) / math.sqrt(self.head_dim)\n",
    "        if mask is not None:\n",
    "            scores = scores.masked_fill(mask == 0, float('-inf'))\n",
    "        attention_weights = F.softmax(scores, dim=-1)\n",
    "        return torch.matmul(attention_weights, value)\n",
    "\n",
    "    def combine_heads(self, x, batch_size):\n",
    "        x = x.permute(0, 2, 1, 3).contiguous()\n",
    "        return x.view(batch_size, -1, self.d_model)\n",
    "\n",
    "    def forward(self, query, key, value, mask=None):\n",
    "        batch_size = query.size(0)\n",
    "        query = self.split_heads(self.query(query), batch_size)\n",
    "        key = self.split_heads(self.key(key), batch_size)\n",
    "        value = self.split_heads(self.value(value), batch_size)\n",
    "        out = self.compute_attention(query, key, value, mask)\n",
    "        return self.output(self.combine_heads(out, batch_size))"
   ]
  },
  {
   "cell_type": "code",
   "execution_count": 7,
   "id": "bede9a08",
   "metadata": {},
   "outputs": [
    {
     "name": "stdout",
     "output_type": "stream",
     "text": [
      "MultiHeadAttention Output: torch.Size([2, 5, 16])\n"
     ]
    }
   ],
   "source": [
    "attn = MultiHeadAttention(d_model=16, nhead=4)\n",
    "x = torch.rand(2, 5, 16)\n",
    "print(\"MultiHeadAttention Output:\", attn(x, x, x).shape)"
   ]
  },
  {
   "cell_type": "markdown",
   "id": "84bc263f",
   "metadata": {},
   "source": [
    "### Feed Forward"
   ]
  },
  {
   "cell_type": "code",
   "execution_count": 8,
   "id": "c0aac635",
   "metadata": {},
   "outputs": [],
   "source": [
    "class FeedForwardSubLayer(nn.Module):\n",
    "    def __init__(self, d_model, d_ff):\n",
    "        super().__init__()\n",
    "        self.fc1 = nn.Linear(d_model, d_ff)\n",
    "        self.fc2 = nn.Linear(d_ff, d_model)\n",
    "\n",
    "    def forward(self, x):\n",
    "        return self.fc2(F.relu(self.fc1(x)))"
   ]
  },
  {
   "cell_type": "code",
   "execution_count": 9,
   "id": "37ec2b28",
   "metadata": {},
   "outputs": [
    {
     "name": "stdout",
     "output_type": "stream",
     "text": [
      "FeedForwardSubLayer Output: torch.Size([2, 5, 16])\n"
     ]
    }
   ],
   "source": [
    "ff = FeedForwardSubLayer(d_model=16, d_ff=32)\n",
    "print(\"FeedForwardSubLayer Output:\", ff(torch.rand(2, 5, 16)).shape)"
   ]
  },
  {
   "cell_type": "markdown",
   "id": "b93ad283",
   "metadata": {},
   "source": [
    "### Encoder Block"
   ]
  },
  {
   "cell_type": "code",
   "execution_count": 10,
   "id": "12dcf031",
   "metadata": {},
   "outputs": [],
   "source": [
    "class EncodedLayer(nn.Module):  # Fixed typo in name\n",
    "    def __init__(self, nhead, d_ff, d_model, dropout):\n",
    "        super().__init__()\n",
    "        self.self_attention = MultiHeadAttention(d_model, nhead)\n",
    "        self.feed_forward = FeedForwardSubLayer(d_model, d_ff)\n",
    "        self.norm1 = nn.LayerNorm(d_model)\n",
    "        self.norm2 = nn.LayerNorm(d_model)\n",
    "        self.dropout = nn.Dropout(dropout)\n",
    "\n",
    "    def forward(self, x, mask):\n",
    "        attn_out = self.self_attention(x, x, x, mask)\n",
    "        x = self.norm1(x + self.dropout(attn_out))\n",
    "        ff_out = self.feed_forward(x)\n",
    "        return self.norm2(x + self.dropout(ff_out))"
   ]
  },
  {
   "cell_type": "code",
   "execution_count": 11,
   "id": "19132290",
   "metadata": {},
   "outputs": [
    {
     "name": "stdout",
     "output_type": "stream",
     "text": [
      "EncodedLayer Output: torch.Size([2, 5, 16])\n"
     ]
    }
   ],
   "source": [
    "layer = EncodedLayer(nhead=4, d_ff=32, d_model=16, dropout=0.1)\n",
    "print(\"EncodedLayer Output:\", layer(torch.rand(2, 5, 16), None).shape)"
   ]
  },
  {
   "cell_type": "code",
   "execution_count": 12,
   "id": "ed97029d",
   "metadata": {},
   "outputs": [],
   "source": [
    "class EncoderBlock(nn.Module):\n",
    "    def __init__(self, vocab_size, d_model, num_layers, nheads, d_ff, dropout, max_seq_len):\n",
    "        super().__init__()\n",
    "        self.embedding = InputEmbedding(vocab_size, d_model)\n",
    "        self.position = PositionalEncoding(d_model, max_seq_len)\n",
    "        self.layers = nn.ModuleList([\n",
    "            EncodedLayer(nheads, d_ff, d_model, dropout) for _ in range(num_layers)\n",
    "        ])\n",
    "\n",
    "    def forward(self, x, mask):\n",
    "        x = self.embedding(x)\n",
    "        x = self.position(x)\n",
    "        for layer in self.layers:\n",
    "            x = layer(x, mask)\n",
    "        return x"
   ]
  },
  {
   "cell_type": "code",
   "execution_count": 13,
   "id": "72e9e37f",
   "metadata": {},
   "outputs": [
    {
     "name": "stdout",
     "output_type": "stream",
     "text": [
      "EncoderBlock Output: torch.Size([2, 5, 16])\n"
     ]
    }
   ],
   "source": [
    "enc = EncoderBlock(100, 16, 2, 4, 32, 0.1, 10)\n",
    "print(\"EncoderBlock Output:\", enc(torch.randint(0, 100, (2, 5)), None).shape)"
   ]
  },
  {
   "cell_type": "markdown",
   "id": "cb900ef2",
   "metadata": {},
   "source": [
    "### Encoder Transformers Heads"
   ]
  },
  {
   "cell_type": "code",
   "execution_count": 14,
   "id": "2cb06e0a",
   "metadata": {},
   "outputs": [],
   "source": [
    "class ClassificationHead(nn.Module):\n",
    "    def __init__(self, d_model, num_classes):\n",
    "        super().__init__()\n",
    "        self.classification_layer = nn.Linear(d_model, num_classes)\n",
    "\n",
    "    def forward(self, x):\n",
    "        return F.log_softmax(self.classification_layer(x), dim=-1)"
   ]
  },
  {
   "cell_type": "code",
   "execution_count": 15,
   "id": "c51103f5",
   "metadata": {},
   "outputs": [
    {
     "name": "stdout",
     "output_type": "stream",
     "text": [
      "ClassificationHead Output: torch.Size([2, 5, 5])\n"
     ]
    }
   ],
   "source": [
    "clf = ClassificationHead(d_model=16, num_classes=5)\n",
    "print(\"ClassificationHead Output:\", clf(torch.rand(2, 5, 16)).shape)"
   ]
  },
  {
   "cell_type": "code",
   "execution_count": 16,
   "id": "1ba5bf0e",
   "metadata": {},
   "outputs": [],
   "source": [
    "class RegressionHead(nn.Module):\n",
    "    def __init__(self, d_model, out_dim):\n",
    "        super().__init__()\n",
    "        self.regression_layer = nn.Linear(d_model, out_dim)\n",
    "\n",
    "    def forward(self, x):\n",
    "        return self.regression_layer(x)"
   ]
  },
  {
   "cell_type": "code",
   "execution_count": 17,
   "id": "f535a0bc",
   "metadata": {},
   "outputs": [
    {
     "name": "stdout",
     "output_type": "stream",
     "text": [
      "RegressionHead Output: torch.Size([2, 5, 1])\n"
     ]
    }
   ],
   "source": [
    "reg = RegressionHead(d_model=16, out_dim=1)\n",
    "print(\"RegressionHead Output:\", reg(torch.rand(2, 5, 16)).shape)"
   ]
  },
  {
   "cell_type": "markdown",
   "id": "6a1810b8",
   "metadata": {},
   "source": [
    "### Encoder Transformer Example"
   ]
  },
  {
   "cell_type": "code",
   "execution_count": 18,
   "id": "1e92f3ac",
   "metadata": {},
   "outputs": [
    {
     "name": "stdout",
     "output_type": "stream",
     "text": [
      "Final Transformer Output (classification): torch.Size([2, 5, 5])\n"
     ]
    }
   ],
   "source": [
    "vocab_size = 100\n",
    "seq_len = 5\n",
    "d_model = 16\n",
    "nhead = 4\n",
    "d_ff = 32\n",
    "num_layers = 2\n",
    "dropout = 0.1\n",
    "num_classes = 5\n",
    "\n",
    "x = torch.randint(0, vocab_size, (2, seq_len))\n",
    "mask = None\n",
    "\n",
    "encoder = EncoderBlock(vocab_size, d_model, num_layers, nhead, d_ff, dropout, max_seq_len=10)\n",
    "classification_head = ClassificationHead(d_model, num_classes)\n",
    "\n",
    "encoded = encoder(x, mask)\n",
    "output = classification_head(encoded)\n",
    "\n",
    "print(\"Final Transformer Output (classification):\", output.shape)"
   ]
  },
  {
   "cell_type": "markdown",
   "id": "80a64726",
   "metadata": {},
   "source": [
    "### Decoder Blcok"
   ]
  },
  {
   "cell_type": "code",
   "execution_count": 19,
   "id": "e52bcf97",
   "metadata": {},
   "outputs": [],
   "source": [
    "seq_length = 3\n",
    "mask = (1 - torch.triu(\n",
    "    torch.ones(1, seq_length, seq_length), diagonal=1)\n",
    "    ).bool()"
   ]
  },
  {
   "cell_type": "markdown",
   "id": "23c6d242",
   "metadata": {},
   "source": [
    "note that:\n",
    "- decoder layer is the same as encoder layer but the mask is passed\n",
    "- The decoder Head is implemented within the Decoder Block"
   ]
  },
  {
   "cell_type": "code",
   "execution_count": 20,
   "id": "1a92e839",
   "metadata": {},
   "outputs": [],
   "source": [
    "class DecoderLayer(nn.Module):\n",
    "    def __init__(self, d_model, num_heads, d_ff, dropout):\n",
    "        super().__init__()\n",
    "        self.self_attn = MultiHeadAttention(d_model, num_heads)\n",
    "        self.cross_attn = MultiHeadAttention(d_model, num_heads)\n",
    "        self.ff_sublayer = FeedForwardSubLayer(d_model, d_ff)\n",
    "        self.norm1 = nn.LayerNorm(d_model)\n",
    "        self.norm2 = nn.LayerNorm(d_model)\n",
    "        self.norm3 = nn.LayerNorm(d_model)\n",
    "        self.dropout = nn.Dropout(dropout)\n",
    "\n",
    "    def forward(self, x, encoder_out, tgt_mask, cross_mask):\n",
    "        x = self.norm1(x + self.dropout(self.self_attn(x, x, x, tgt_mask)))\n",
    "        x = self.norm2(x + self.dropout(self.cross_attn(x, encoder_out, encoder_out, cross_mask)))\n",
    "        x = self.norm3(x + self.dropout(self.ff_sublayer(x)))\n",
    "        return x"
   ]
  },
  {
   "cell_type": "code",
   "execution_count": 21,
   "id": "8b38250f",
   "metadata": {},
   "outputs": [
    {
     "name": "stdout",
     "output_type": "stream",
     "text": [
      "DecoderLayer Output: torch.Size([2, 5, 16])\n"
     ]
    }
   ],
   "source": [
    "layer = DecoderLayer(d_model=16, num_heads=4, d_ff=32, dropout=0.1)\n",
    "x = torch.rand(2, 5, 16)\n",
    "enc = torch.rand(2, 6, 16)\n",
    "print(\"DecoderLayer Output:\", layer(x, enc, None, None).shape)"
   ]
  },
  {
   "cell_type": "code",
   "execution_count": 22,
   "id": "e72fa2c2",
   "metadata": {},
   "outputs": [],
   "source": [
    "class TransformerDecoder(nn.Module):\n",
    "    def __init__(self, vocab_size, d_model, num_layers, nhead, d_ff, dropout, max_seq_length):\n",
    "        super().__init__()\n",
    "        self.embedding = InputEmbedding(vocab_size, d_model)\n",
    "        self.position = PositionalEncoding(d_model, max_seq_length)\n",
    "        self.layers = nn.ModuleList([\n",
    "            DecoderLayer(d_model, nhead, d_ff, dropout) for _ in range(num_layers)\n",
    "        ])\n",
    "        self.output_fc = nn.Linear(d_model, vocab_size)\n",
    "\n",
    "    def forward(self, x, encoder_out, tgt_mask, cross_mask):\n",
    "        x = self.embedding(x)\n",
    "        x = self.position(x)\n",
    "        for layer in self.layers:\n",
    "            x = layer(x, encoder_out, tgt_mask, cross_mask)\n",
    "        return F.log_softmax(self.output_fc(x), dim=-1)"
   ]
  },
  {
   "cell_type": "code",
   "execution_count": 23,
   "id": "d1bca619",
   "metadata": {},
   "outputs": [
    {
     "name": "stdout",
     "output_type": "stream",
     "text": [
      "TransformerDecoder Output: torch.Size([2, 5, 100])\n"
     ]
    }
   ],
   "source": [
    "decoder = TransformerDecoder(100, 16, 2, 4, 32, 0.1, 10)\n",
    "x = torch.randint(0, 100, (2, 5))\n",
    "enc_out = torch.rand(2, 6, 16)\n",
    "print(\"TransformerDecoder Output:\", decoder(x, enc_out, None, None).shape)"
   ]
  },
  {
   "cell_type": "markdown",
   "id": "6bd6765f",
   "metadata": {},
   "source": [
    "### Full Transformer"
   ]
  },
  {
   "cell_type": "code",
   "execution_count": 24,
   "id": "7a9b624d",
   "metadata": {},
   "outputs": [],
   "source": [
    "class Transformer(nn.Module):\n",
    "    def __init__(self, vocab_size, d_model, num_layers, nheads, d_ff, max_seq_len, dropout):\n",
    "        super().__init__()\n",
    "        self.encoder = EncoderBlock(vocab_size, d_model, num_layers, nheads, d_ff, dropout, max_seq_len)\n",
    "        self.decoder = TransformerDecoder(vocab_size, d_model, num_layers, nheads, d_ff, dropout, max_seq_len)\n",
    "\n",
    "    def forward(self, src, tgt, src_mask=None, tgt_mask=None, cross_mask=None):\n",
    "        encoder_output = self.encoder(src, src_mask)\n",
    "        decoder_output = self.decoder(tgt, encoder_output, tgt_mask, cross_mask)\n",
    "        return decoder_output"
   ]
  },
  {
   "cell_type": "code",
   "execution_count": 25,
   "id": "fc65fdc6",
   "metadata": {},
   "outputs": [
    {
     "name": "stdout",
     "output_type": "stream",
     "text": [
      "Transformer Output: torch.Size([2, 5, 100])\n"
     ]
    }
   ],
   "source": [
    "model = Transformer(vocab_size=100, d_model=16, num_layers=2, nheads=4, d_ff=32, max_seq_len=10, dropout=0.1)\n",
    "src = torch.randint(0, 100, (2, 6))\n",
    "tgt = torch.randint(0, 100, (2, 5))\n",
    "print(\"Transformer Output:\", model(src, tgt).shape)"
   ]
  }
 ],
 "metadata": {
  "kernelspec": {
   "display_name": "Python 3",
   "language": "python",
   "name": "python3"
  },
  "language_info": {
   "codemirror_mode": {
    "name": "ipython",
    "version": 3
   },
   "file_extension": ".py",
   "mimetype": "text/x-python",
   "name": "python",
   "nbconvert_exporter": "python",
   "pygments_lexer": "ipython3",
   "version": "3.10.0"
  }
 },
 "nbformat": 4,
 "nbformat_minor": 5
}
